{
 "cells": [
  {
   "cell_type": "markdown",
   "metadata": {},
   "source": [
    "# metadataservice"
   ]
  },
  {
   "cell_type": "code",
   "execution_count": 1,
   "metadata": {
    "collapsed": false,
    "scrolled": true
   },
   "outputs": [
    {
     "name": "stdout",
     "output_type": "stream",
     "text": [
      "a846ccd4-d1c1-412d-9e7c-948e5adaed1f\n",
      "1 loops, best of 3: 654 ms per loop\n",
      "9999\n"
     ]
    }
   ],
   "source": [
    "from metadataclient.api import *\n",
    "import time as ttime\n",
    "import uuid\n",
    "import numpy as np\n",
    "import matplotlib.pyplot as plt\n",
    "import ujson\n",
    "import requests\n",
    "\n",
    "%matplotlib inline\n",
    "get_time = ttime.time\n",
    "\n",
    "data_point_count, event_count = 10, 10000\n",
    "rs = insert_run_start(time=get_time(), scan_id=0, beamline_id='testing', uid=str(uuid.uuid4()), config={},\n",
    "                        owner=None, group=None, project=None, custom=None)\n",
    "col_count = data_point_count\n",
    "data_keys = {}\n",
    "for i in range(col_count):\n",
    "    data_keys['point_det' + str(i)] = dict(source='PV:ES:PointDet'+str(i), dtype='number',\n",
    "                                            shape=1)\n",
    "e_desc = insert_descriptor(run_start=rs, data_keys=data_keys, \n",
    "                           time=get_time(), uid=str(uuid.uuid4()), custom=None)\n",
    "\n",
    "rands = np.random.RandomState(5)\n",
    "events = []\n",
    "num_exposures = event_count\n",
    "\n",
    "base_time = get_time()\n",
    "\n",
    "point_det_data = rands.randn(num_exposures) + np.arange(num_exposures)\n",
    "data = {}\n",
    "timestamps = {}\n",
    "all_events = []\n",
    "for i in range(1, num_exposures):\n",
    "    time = float(2 * i + 0.5 * rands.randn()) + base_time\n",
    "    for j in range(1, col_count):\n",
    "        data['point_det'+str(j)] = point_det_data[j]\n",
    "        timestamps['point_det'+str(j)] = time\n",
    "    event_dict = dict(descriptor=e_desc, seq_num=i,\n",
    "                      time=get_time(), data=data, timestamps=timestamps,\n",
    "                      uid=str(uuid.uuid4()))\n",
    "\n",
    "    all_events.append(event_dict)\n",
    "bulk_insert_events(event_descriptor=e_desc, events=all_events)\n",
    "print(rs)\n",
    "rstop = insert_run_stop(run_start=rs, time=get_time(), uid=str(uuid.uuid4()), exit_status='success',\n",
    "                    reason='', custom=None)\n",
    "%timeit list(find_events(descriptor=e_desc))\n",
    "print(len(list(find_events(descriptor=e_desc))))"
   ]
  },
  {
   "cell_type": "markdown",
   "metadata": {},
   "source": [
    "# metadatastore library"
   ]
  },
  {
   "cell_type": "code",
   "execution_count": 2,
   "metadata": {
    "collapsed": false
   },
   "outputs": [
    {
     "name": "stdout",
     "output_type": "stream",
     "text": [
      "1 loops, best of 3: 937 ms per loop\n",
      "9999\n"
     ]
    }
   ],
   "source": [
    "from metadatastore.api import *\n",
    "import time as ttime\n",
    "import uuid\n",
    "import numpy as np\n",
    "\n",
    "get_time = ttime.time\n",
    "data_point_count, event_count = 10, 10000\n",
    "rs = insert_run_start(time=get_time(), scan_id=0, beamline_id='testing', uid=str(uuid.uuid4()),\n",
    "                        owner=None, group=None, project=None, custom=None)\n",
    "col_count = data_point_count\n",
    "data_keys = {}\n",
    "for i in range(col_count):\n",
    "    data_keys['point_det' + str(i)] = dict(source='PV:ES:PointDet'+str(i), dtype='number',\n",
    "                                            shape=(1,))\n",
    "e_desc = insert_descriptor(run_start=rs, data_keys=data_keys, \n",
    "                           time=get_time(), uid=str(uuid.uuid4()), custom=None)\n",
    "\n",
    "rands = np.random.RandomState(5)\n",
    "events = []\n",
    "num_exposures = event_count\n",
    "\n",
    "base_time = get_time()\n",
    "\n",
    "point_det_data = rands.randn(num_exposures) + np.arange(num_exposures)\n",
    "data = {}\n",
    "timestamps = {}\n",
    "all_events = []\n",
    "for i in range(1, num_exposures):\n",
    "    time = float(2 * i + 0.5 * rands.randn()) + base_time\n",
    "    for j in range(1, col_count):\n",
    "        data['point_det'+str(j)] = point_det_data[j]\n",
    "        timestamps['point_det'+str(j)] = time\n",
    "    event_dict = dict(descriptor=e_desc, seq_num=i,\n",
    "                      time=get_time(), data=data, timestamps=timestamps,\n",
    "                      uid=str(uuid.uuid4()))\n",
    "\n",
    "    all_events.append(event_dict)\n",
    "for e in all_events:\n",
    "    insert_event(**e)\n",
    "    \n",
    "rstop = insert_run_stop(run_start=rs, time=get_time(), uid=str(uuid.uuid4()), exit_status='success',\n",
    "                    reason='', custom=None)\n",
    "%timeit list(find_events(descriptor=e_desc))\n",
    "print(len(list(find_events(descriptor=e_desc))))"
   ]
  },
  {
   "cell_type": "markdown",
   "metadata": {
    "collapsed": true
   },
   "source": []
  }
 ],
 "metadata": {
  "kernelspec": {
   "display_name": "Python 3",
   "language": "python",
   "name": "python3"
  },
  "language_info": {
   "codemirror_mode": {
    "name": "ipython",
    "version": 3
   },
   "file_extension": ".py",
   "mimetype": "text/x-python",
   "name": "python",
   "nbconvert_exporter": "python",
   "pygments_lexer": "ipython3",
   "version": "3.4.3"
  }
 },
 "nbformat": 4,
 "nbformat_minor": 0
}

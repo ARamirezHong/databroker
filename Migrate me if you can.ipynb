{
 "cells": [
  {
   "cell_type": "code",
   "execution_count": null,
   "metadata": {
    "collapsed": false
   },
   "outputs": [],
   "source": [
    "from pymongo import MongoClient\n",
    "from collections import deque\n",
    "from metadataclient.api import (insert_run_start, insert_descriptor,\n",
    "                                insert_run_stop, insert_event, bulk_insert_events)\n",
    "from metadataclient.api import (find_run_starts, find_descriptors, find_events,\n",
    "                               find_run_stops, find_last)\n",
    "from metadataclient.conf import connection_config\n",
    "from urllib3.exceptions import ConnectionError\n"
   ]
  },
  {
   "cell_type": "code",
   "execution_count": null,
   "metadata": {
    "collapsed": true
   },
   "outputs": [],
   "source": [
    "class MdsMigrationException(RuntimeError):\n",
    "    \"\"\"Goodbye cruel world!\"\"\"\n",
    "    pass\n",
    "\n",
    "# Before this script is run, make sure you create a database called metadataservice\n",
    "\n",
    "# TODO: Switch to deque from OrderedDict if too slow"
   ]
  },
  {
   "cell_type": "markdown",
   "metadata": {},
   "source": [
    "**_Ensure global connection management is functional by providing fake host information_**"
   ]
  },
  {
   "cell_type": "code",
   "execution_count": null,
   "metadata": {
    "collapsed": false
   },
   "outputs": [],
   "source": [
    "try:\n",
    "    MONGO_HOST = 'kusadasi'\n",
    "    connection_config['host'] = MONGO_HOST \n",
    "    res = next(find_last())\n",
    "except Exception:\n",
    "    pass"
   ]
  },
  {
   "cell_type": "markdown",
   "metadata": {},
   "source": [
    "**Connection Management**"
   ]
  },
  {
   "cell_type": "code",
   "execution_count": null,
   "metadata": {
    "collapsed": false
   },
   "outputs": [],
   "source": [
    "MONGO_HOST = 'localhost'\n",
    "MONGO_PORT = 27017\n",
    "MIGRATION_DB = 'datastore2'\n",
    "# assuming both mongo and tornado server on the same machine\n",
    "connection_config['host'] = MONGO_HOST \n",
    "connection_config['port'] = 7770\n",
    "connection_config['database'] = 'metadataservice'\n",
    "pymongo_client = MongoClient(MONGO_HOST, MONGO_PORT)\n",
    "database = pymongo_client[MIGRATION_DB]\n",
    "try:\n",
    "    res = (next(find_last()))\n",
    "except Exception:\n",
    "    raise MdsMigrationException('Seems like metadataservice is not accessible or empty')"
   ]
  },
  {
   "cell_type": "markdown",
   "metadata": {
    "collapsed": false
   },
   "source": [
    "**Get all run_starts**"
   ]
  },
  {
   "cell_type": "code",
   "execution_count": null,
   "metadata": {
    "collapsed": false
   },
   "outputs": [],
   "source": [
    "print(database) # visual sanity check\n"
   ]
  },
  {
   "cell_type": "code",
   "execution_count": null,
   "metadata": {
    "collapsed": true
   },
   "outputs": [],
   "source": [
    "def rstart_oid_lookup(database, oid):\n",
    "    try:\n",
    "        res = next(database.run_start.find({'_id':oid}))\n",
    "    except StopIteration:\n",
    "        raise MdsMigrationException('Seems like run_start with this oid does not exist')\n",
    "    return res"
   ]
  },
  {
   "cell_type": "code",
   "execution_count": null,
   "metadata": {
    "collapsed": true
   },
   "outputs": [],
   "source": [
    "def descriptor_oid_lookup(database, oid):\n",
    "    try:\n",
    "        res = next(database.event_descriptor.find({'_id':oid}))\n",
    "    except StopIteration:\n",
    "        raise MdsMigrationException('Seems like descriptor with this oid does not exist')\n",
    "    return res"
   ]
  },
  {
   "cell_type": "markdown",
   "metadata": {},
   "source": [
    "**Save all run_starts into an OrderedDict()**"
   ]
  },
  {
   "cell_type": "code",
   "execution_count": null,
   "metadata": {
    "collapsed": false
   },
   "outputs": [],
   "source": [
    "rstart_crsr = database.run_start.find()\n",
    "run_starts = deque()\n",
    "for rstart in rstart_crsr:\n",
    "    run_starts.append(rstart)"
   ]
  },
  {
   "cell_type": "markdown",
   "metadata": {},
   "source": [
    "**Go over all beamline configurations, delete run_start reference fields, add as a embedded document to run_start, and update entry in run_starts deque()**"
   ]
  },
  {
   "cell_type": "code",
   "execution_count": null,
   "metadata": {
    "collapsed": false
   },
   "outputs": [],
   "source": [
    "bcfg_crsr = database.beamline_config.find()\n",
    "for cfg in bcfg_crsr:\n",
    "    runstart = rstart_oid_lookup(database, cfg['run_start']) \n",
    "    # check if run_start really exists!\n",
    "    del(cfg['run_start'])\n",
    "    runstart['config'] = cfg\n",
    "    run_starts.append(rstart)\n",
    "print (run_starts)"
   ]
  },
  {
   "cell_type": "markdown",
   "metadata": {},
   "source": [
    "**Get all descriptors and insert them using metadataclient.Iterate over descriptors, replace run_start oid references with run_start uid foreign keys, and save them to a deque and a dict that is keyed on uids(for caching)**"
   ]
  },
  {
   "cell_type": "code",
   "execution_count": null,
   "metadata": {
    "collapsed": false
   },
   "outputs": [],
   "source": [
    "desc_crsr = database.event_descriptor.find()\n",
    "descriptors = deque()\n",
    "desc_dict = {}\n",
    "for desc in desc_crsr:\n",
    "    rstart = rstart_oid_lookup(database, desc['run_start'])\n",
    "    # make sure run_start exists\n",
    "    desc['run_start'] = run_starts[rstart['uid']]['uid'] \n",
    "    desc_dict[desc['uid']] = desc\n",
    "    descriptors.append(desc)"
   ]
  },
  {
   "cell_type": "markdown",
   "metadata": {},
   "source": [
    "**Insert all run_starts and descriptors so far**"
   ]
  },
  {
   "cell_type": "code",
   "execution_count": null,
   "metadata": {
    "collapsed": true
   },
   "outputs": [],
   "source": [
    "# insert via metadataclient"
   ]
  },
  {
   "cell_type": "code",
   "execution_count": null,
   "metadata": {
    "collapsed": false
   },
   "outputs": [],
   "source": [
    "for d in descriptors:\n",
    "    events = deque()\n",
    "    event_crsr = database.event_descriptor.find({'descriptor': d['_id']})\n",
    "    for e in event_crsr:\n",
    "        e['descriptor'] = d['uid']\n",
    "        events.append(e)\n",
    "    # bulk inserts events via metadataclient"
   ]
  },
  {
   "cell_type": "code",
   "execution_count": null,
   "metadata": {
    "collapsed": false
   },
   "outputs": [],
   "source": []
  },
  {
   "cell_type": "code",
   "execution_count": null,
   "metadata": {
    "collapsed": true
   },
   "outputs": [],
   "source": []
  }
 ],
 "metadata": {
  "kernelspec": {
   "display_name": "Python 3",
   "language": "python",
   "name": "python3"
  },
  "language_info": {
   "codemirror_mode": {
    "name": "ipython",
    "version": 3
   },
   "file_extension": ".py",
   "mimetype": "text/x-python",
   "name": "python",
   "nbconvert_exporter": "python",
   "pygments_lexer": "ipython3",
   "version": "3.4.3"
  }
 },
 "nbformat": 4,
 "nbformat_minor": 0
}

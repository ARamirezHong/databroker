{
 "cells": [
  {
   "cell_type": "code",
   "execution_count": 1,
   "metadata": {
    "collapsed": false
   },
   "outputs": [],
   "source": [
    "from metadataclient.api import *\n",
    "import time as ttime\n",
    "import uuid\n",
    "import numpy as np\n",
    "import pandas as pd\n",
    "import matplotlib.pyplot as plt\n",
    "%matplotlib inline\n",
    "\n",
    "get_time = ttime.time\n"
   ]
  },
  {
   "cell_type": "markdown",
   "metadata": {},
   "source": [
    "**Disclaimer**: Numbers based on my old laptop and obtained with wiredTiger"
   ]
  },
  {
   "cell_type": "markdown",
   "metadata": {},
   "source": [
    "# Benchmark Script for retrieval of list of events"
   ]
  },
  {
   "cell_type": "code",
   "execution_count": 2,
   "metadata": {
    "collapsed": false
   },
   "outputs": [],
   "source": [
    "def benchmark_list_events(event_count,data_point_count):\n",
    "    \"\"\"Events are in listified form\"\"\"\n",
    "    rs = insert_run_start(time=get_time(), scan_id=0, beamline_id='testing', uid=str(uuid.uuid4()), config={},\n",
    "                        owner=None, group=None, project=None, custom=None)\n",
    "    col_count = data_point_count\n",
    "    data_keys = {}\n",
    "    for i in range(col_count):\n",
    "        data_keys['point_det' + str(i)] = dict(source='PV:ES:PointDet'+str(i), dtype='number',\n",
    "                                                shape=1)\n",
    "    e_desc = insert_descriptor(run_start=rs, data_keys=data_keys, \n",
    "                               time=get_time(), uid=str(uuid.uuid4()), custom=None)\n",
    "    \n",
    "    rands = np.random.RandomState(5)\n",
    "    events = []\n",
    "    num_exposures = event_count\n",
    "\n",
    "    base_time = get_time()\n",
    "\n",
    "    point_det_data = rands.randn(num_exposures) + np.arange(num_exposures)\n",
    "    data = {}\n",
    "    timestamps = {}\n",
    "    all_events = []\n",
    "    for i in range(1, num_exposures):\n",
    "        time = float(2 * i + 0.5 * rands.randn()) + base_time\n",
    "        for j in range(1, col_count):\n",
    "            data['point_det'+str(j)] = point_det_data[i]\n",
    "            timestamps['point_det'+str(j)] = time\n",
    "        event_dict = dict(descriptor=e_desc, seq_num=i,\n",
    "                          time=get_time(), data=data, timestamps=timestamps,\n",
    "                          uid=str(uuid.uuid4()))\n",
    "        \n",
    "        all_events.append(event_dict)\n",
    "    bulk_insert_events(event_descriptor=e_desc, events=all_events)\n",
    "    rstop = insert_run_stop(run_start=rs, time=get_time(), uid=str(uuid.uuid4()), config={}, exit_status='success',\n",
    "                        reason='', custom=None)\n",
    "    start = get_time()\n",
    "    a = list(find_events(descriptor=e_desc))\n",
    "    end = get_time()\n",
    "    \n",
    "    elapsed = end - start\n",
    "    \n",
    "    return elapsed\n",
    "\n"
   ]
  },
  {
   "cell_type": "markdown",
   "metadata": {},
   "source": [
    "# Benchmark Script for retrieval of event generator"
   ]
  },
  {
   "cell_type": "code",
   "execution_count": 3,
   "metadata": {
    "collapsed": true
   },
   "outputs": [],
   "source": [
    "def benchmark_events_generator(event_count,data_point_count):\n",
    "    \"\"\"Events are in listified form\"\"\"\n",
    "    rs = insert_run_start(time=get_time(), scan_id=0, beamline_id='testing', uid=str(uuid.uuid4()), config={},\n",
    "                        owner=None, group=None, project=None, custom=None)\n",
    "    col_count = data_point_count\n",
    "    data_keys = {}\n",
    "    for i in range(col_count):\n",
    "        data_keys['point_det' + str(i)] = dict(source='PV:ES:PointDet'+str(i), dtype='number',\n",
    "                                                shape=1)\n",
    "    e_desc = insert_descriptor(run_start=rs, data_keys=data_keys, \n",
    "                               time=get_time(), uid=str(uuid.uuid4()), custom=None)\n",
    "    \n",
    "    rands = np.random.RandomState(5)\n",
    "    events = []\n",
    "    num_exposures = event_count\n",
    "\n",
    "    base_time = get_time()\n",
    "\n",
    "    point_det_data = rands.randn(num_exposures) + np.arange(num_exposures)\n",
    "    data = {}\n",
    "    timestamps = {}\n",
    "    all_events = []\n",
    "    for i in range(1, num_exposures):\n",
    "        time = float(2 * i + 0.5 * rands.randn()) + base_time\n",
    "        for j in range(1, col_count):\n",
    "            data['point_det'+str(j)] = point_det_data[j]\n",
    "            timestamps['point_det'+str(j)] = time\n",
    "        event_dict = dict(descriptor=e_desc, seq_num=i,\n",
    "                          time=get_time(), data=data, timestamps=timestamps,\n",
    "                          uid=str(uuid.uuid4()))\n",
    "        \n",
    "        all_events.append(event_dict)\n",
    "    bulk_insert_events(event_descriptor=e_desc, events=all_events)\n",
    "    rstop = insert_run_stop(run_start=rs, time=get_time(), uid=str(uuid.uuid4()), config={}, exit_status='success',\n",
    "                        reason='', custom=None)\n",
    "    start = get_time()\n",
    "    a = find_events(descriptor=e_desc)\n",
    "    end = get_time()\n",
    "    \n",
    "    elapsed = end - start\n",
    "    \n",
    "    return elapsed"
   ]
  },
  {
   "cell_type": "markdown",
   "metadata": {},
   "source": [
    "# Benchmark Script for retrieval of list of events (Not bulk, single writes)"
   ]
  },
  {
   "cell_type": "code",
   "execution_count": 4,
   "metadata": {
    "collapsed": true
   },
   "outputs": [],
   "source": [
    "def benchmark_events_generator_single(event_count,data_point_count):\n",
    "    \"\"\"Events are in listified form\"\"\"\n",
    "    rs = insert_run_start(time=get_time(), scan_id=0, beamline_id='testing', uid=str(uuid.uuid4()), config={},\n",
    "                        owner=None, group=None, project=None, custom=None)\n",
    "    col_count = data_point_count\n",
    "    data_keys = {}\n",
    "    for i in range(col_count):\n",
    "        data_keys['point_det' + str(i)] = dict(source='PV:ES:PointDet'+str(i), dtype='number',\n",
    "                                                shape=1)\n",
    "    e_desc = insert_descriptor(run_start=rs, data_keys=data_keys, \n",
    "                               time=get_time(), uid=str(uuid.uuid4()), custom=None)\n",
    "    \n",
    "    rands = np.random.RandomState(5)\n",
    "    events = []\n",
    "    num_exposures = event_count\n",
    "\n",
    "    base_time = get_time()\n",
    "\n",
    "    point_det_data = rands.randn(num_exposures) + np.arange(num_exposures)\n",
    "    data = {}\n",
    "    timestamps = {}\n",
    "    all_events = []\n",
    "    \n",
    "    time = float(2 * 1 + 0.5 * rands.randn()) + base_time\n",
    "    for k in range(data_point_count):\n",
    "        data['point_det'+str(k)] = point_det_data[0]\n",
    "        timestamps['point_det'+str(k)] = time\n",
    "    event_dict = dict(descriptor=e_desc, seq_num=0,\n",
    "                      time=get_time(), data=data, timestamps=timestamps,\n",
    "                      uid=str(uuid.uuid4()))\n",
    "        \n",
    "    for event in range(event_count):\n",
    "        insert_event(**event_dict)\n",
    "    rstop = insert_run_stop(run_start=rs, time=get_time(), uid=str(uuid.uuid4()), config={}, exit_status='success',\n",
    "                        reason='', custom=None)\n",
    "    start = get_time()\n",
    "    a = find_events(descriptor=e_desc)\n",
    "    end = get_time()\n",
    "    \n",
    "    elapsed = end - start\n",
    "    \n",
    "    return elapsed"
   ]
  },
  {
   "cell_type": "markdown",
   "metadata": {},
   "source": [
    "# Benchmark Script for retrieval of event generator (Not bulk, single writes)"
   ]
  },
  {
   "cell_type": "code",
   "execution_count": 5,
   "metadata": {
    "collapsed": true
   },
   "outputs": [],
   "source": [
    "def benchmark_events_list_single(event_count,data_point_count):\n",
    "    \"\"\"Events are in listified form\"\"\"\n",
    "    rs = insert_run_start(time=get_time(), scan_id=0, beamline_id='testing', uid=str(uuid.uuid4()), config={},\n",
    "                        owner=None, group=None, project=None, custom=None)\n",
    "    col_count = data_point_count\n",
    "    data_keys = {}\n",
    "    for i in range(col_count):\n",
    "        data_keys['point_det' + str(i)] = dict(source='PV:ES:PointDet'+str(i), dtype='number',\n",
    "                                                shape=1)\n",
    "    e_desc = insert_descriptor(run_start=rs, data_keys=data_keys, \n",
    "                               time=get_time(), uid=str(uuid.uuid4()), custom=None)\n",
    "    \n",
    "    rands = np.random.RandomState(5)\n",
    "    events = []\n",
    "    num_exposures = event_count\n",
    "\n",
    "    base_time = get_time()\n",
    "\n",
    "    point_det_data = rands.randn(num_exposures) + np.arange(num_exposures)\n",
    "    data = {}\n",
    "    timestamps = {}\n",
    "    all_events = []\n",
    "    \n",
    "    time = float(2 * 1 + 0.5 * rands.randn()) + base_time\n",
    "    for k in range(data_point_count):\n",
    "        data['point_det'+str(k)] = point_det_data[0]\n",
    "        timestamps['point_det'+str(k)] = time\n",
    "    event_dict = dict(descriptor=e_desc, seq_num=0,\n",
    "                      time=get_time(), data=data, timestamps=timestamps,\n",
    "                      uid=str(uuid.uuid4()))\n",
    "        \n",
    "    for event in range(event_count):\n",
    "        insert_event(**event_dict)\n",
    "    rstop = insert_run_stop(run_start=rs, time=get_time(), uid=str(uuid.uuid4()), config={}, exit_status='success',\n",
    "                        reason='', custom=None)\n",
    "    start = get_time()\n",
    "    a = list(find_events(descriptor=e_desc))\n",
    "    end = get_time()\n",
    "    \n",
    "    elapsed = end - start\n",
    "    \n",
    "    return elapsed"
   ]
  },
  {
   "cell_type": "markdown",
   "metadata": {},
   "source": [
    "# Small quantity Event Retrieval Performance, Generator(10 scalar data pts/scan)"
   ]
  },
  {
   "cell_type": "code",
   "execution_count": 6,
   "metadata": {
    "collapsed": false,
    "scrolled": true
   },
   "outputs": [
    {
     "data": {
      "text/plain": [
       "<matplotlib.text.Text at 0x112986b00>"
      ]
     },
     "execution_count": 6,
     "metadata": {},
     "output_type": "execute_result"
    },
    {
     "data": {
      "image/png": "[encoded data removed]",
      "text/plain": [
       "<matplotlib.figure.Figure at 0x11290f7f0>"
      ]
     },
     "metadata": {},
     "output_type": "display_data"
    }
   ],
   "source": [
    "single_shot_range =  [1, 2, 5, 10, 20, 50, 100, 200, 500]\n",
    "single_gen_time = []\n",
    "for entry in single_shot_range:\n",
    "    single_gen_time.append(benchmark_events_generator_single(entry, 10))\n",
    "plt.plot(single_shot_range,  single_gen_time)\n",
    "plt.xlabel('Number of Events')\n",
    "plt.ylabel('Retrieval Time(s)')\n",
    "plt.title('Small quantity Event Retrieval Performance, Generator(10 scalar data pts/scan)')"
   ]
  },
  {
   "cell_type": "markdown",
   "metadata": {},
   "source": [
    "# Small quantity Event Retrieval Performance, List(10 scalar data pts/event)"
   ]
  },
  {
   "cell_type": "code",
   "execution_count": 7,
   "metadata": {
    "collapsed": false
   },
   "outputs": [
    {
     "data": {
      "text/plain": [
       "<matplotlib.text.Text at 0x1158b1278>"
      ]
     },
     "execution_count": 7,
     "metadata": {},
     "output_type": "execute_result"
    },
    {
     "data": {
      "image/png": "[encoded data removed]",
      "text/plain": [
       "<matplotlib.figure.Figure at 0x11290f390>"
      ]
     },
     "metadata": {},
     "output_type": "display_data"
    }
   ],
   "source": [
    "single_shot_range =  [1, 2, 5, 10, 20, 50, 100, 200, 500]\n",
    "single_gen_time = []\n",
    "for entry in single_shot_range:\n",
    "    single_gen_time.append(benchmark_events_list_single(entry, 10))\n",
    "plt.plot(single_shot_range,  single_gen_time)\n",
    "plt.xlabel('Number of Events')\n",
    "plt.ylabel('Retrieval Time(s)')\n",
    "plt.title('Small quantity Event Retrieval Performance, List(10 scalar data pts/event)')"
   ]
  },
  {
   "cell_type": "markdown",
   "metadata": {},
   "source": [
    "# Large Quantity Event Retrieval Performance, Generator (10 scalar data pts/event)"
   ]
  },
  {
   "cell_type": "code",
   "execution_count": null,
   "metadata": {
    "collapsed": false
   },
   "outputs": [
    {
     "data": {
      "text/plain": [
       "<matplotlib.text.Text at 0x115512d68>"
      ]
     },
     "execution_count": 8,
     "metadata": {},
     "output_type": "execute_result"
    },
    {
     "data": {
      "image/png": "[encoded data removed]",
      "text/plain": [
       "<matplotlib.figure.Figure at 0x11555a6a0>"
      ]
     },
     "metadata": {},
     "output_type": "display_data"
    }
   ],
   "source": [
    "n_elapsed_time = []\n",
    "n_ev_ct = []\n",
    "for _ in range(10000, 100000, 10000):\n",
    "    n_elapsed_time.append(benchmark_events_generator(event_count=_, data_point_count=10))\n",
    "    n_ev_ct.append(_)\n",
    "plt.plot(n_ev_ct,  n_elapsed_time)\n",
    "plt.xlabel('Number of Events')\n",
    "plt.ylabel('Retrieval Time(s)')\n",
    "plt.title('Event Retrieval Performance, Generator (10 scalar data pts/event)')"
   ]
  },
  {
   "cell_type": "markdown",
   "metadata": {},
   "source": [
    "# Large Quantity Event Retrieval Performance, Listified (10 scalar data pts/scan  )"
   ]
  },
  {
   "cell_type": "code",
   "execution_count": null,
   "metadata": {
    "collapsed": false,
    "scrolled": false
   },
   "outputs": [],
   "source": [
    "n_elapsed_time = []\n",
    "n_ev_ct = []\n",
    "for _ in range(10000, 100000, 10000):\n",
    "    n_elapsed_time.append(benchmark_list_events(event_count=_, data_point_count=10))\n",
    "    n_ev_ct.append(_)\n",
    "plt.plot(n_ev_ct,  n_elapsed_time)\n",
    "plt.xlabel('Number of Events')\n",
    "plt.ylabel('Retrieval Time(s)')\n",
    "plt.title('Event Retrieval Performance, Listified (10 scalar data pts/scan)')"
   ]
  },
  {
   "cell_type": "code",
   "execution_count": null,
   "metadata": {
    "collapsed": true
   },
   "outputs": [],
   "source": []
  }
 ],
 "metadata": {
  "kernelspec": {
   "display_name": "Python 3",
   "language": "python",
   "name": "python3"
  },
  "language_info": {
   "codemirror_mode": {
    "name": "ipython",
    "version": 3
   },
   "file_extension": ".py",
   "mimetype": "text/x-python",
   "name": "python",
   "nbconvert_exporter": "python",
   "pygments_lexer": "ipython3",
   "version": "3.4.3"
  }
 },
 "nbformat": 4,
 "nbformat_minor": 0
}
